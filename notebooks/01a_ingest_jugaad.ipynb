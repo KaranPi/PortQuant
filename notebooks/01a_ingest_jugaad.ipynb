{
 "cells": [
  {
   "cell_type": "code",
   "execution_count": 5,
   "id": "3c1e5f81",
   "metadata": {},
   "outputs": [
    {
     "name": "stdout",
     "output_type": "stream",
     "text": [
      "[OK] sys.path += C:\\Users\\quantbase\\Desktop\\quant\\src\n"
     ]
    }
   ],
   "source": [
    "# --- bootstrap: find src/quantlib ---\n",
    "import sys\n",
    "\n",
    "def add_src_to_path(pkg=\"quantlib\", levels_up=3):\n",
    "    here = Path.cwd().resolve()\n",
    "    candidates = [here / \"src\"] + [here.parents[i] / \"src\" for i in range(levels_up)]\n",
    "    for p in candidates:\n",
    "        if (p / pkg / \"__init__.py\").exists():\n",
    "            sys.path.insert(0, str(p)); print(f\"[OK] sys.path += {p}\"); return\n",
    "    raise FileNotFoundError(\"src/quantlib not found\")\n",
    "\n",
    "add_src_to_path()\n"
   ]
  },
  {
   "cell_type": "code",
   "execution_count": 6,
   "id": "f9d6421f",
   "metadata": {},
   "outputs": [],
   "source": [
    "# --- 0) Imports & paths -------------------------------------------------------\n",
    "from datetime import date, timedelta\n",
    "import pathlib, importlib\n",
    "from pathlib import Path\n",
    "import pandas as pd\n",
    "from pandas.tseries.offsets import BDay\n",
    "from jugaad_data.nse import stock_df  # historical OHLCV to DataFrame\n",
    "from quantlib.io import load_index_and_merge\n",
    "from quantlib import io as qio"
   ]
  },
  {
   "cell_type": "code",
   "execution_count": 7,
   "id": "0eb64e76",
   "metadata": {},
   "outputs": [
    {
     "data": {
      "text/plain": [
       "<module 'quantlib.io' from 'C:\\\\Users\\\\quantbase\\\\Desktop\\\\quant\\\\src\\\\quantlib\\\\io.py'>"
      ]
     },
     "execution_count": 7,
     "metadata": {},
     "output_type": "execute_result"
    }
   ],
   "source": [
    "importlib.reload(qio)"
   ]
  },
  {
   "cell_type": "code",
   "execution_count": 8,
   "id": "dbef4551",
   "metadata": {},
   "outputs": [],
   "source": [
    "# --- 1) Configure root & today's run folder ----------------------------------\n",
    "ROOT = Path(r\"C:\\Users\\quantbase\\Desktop\\quant\")\n",
    "RUN_DATE = \"26-09-2025\"  # <Format \"DD-MM-YYYY\"\n",
    "RUN_DIR  = ROOT / RUN_DATE\n",
    "\n",
    "\n",
    "RAW = RUN_DIR / \"data_raw\"\n",
    "INT = RUN_DIR / \"data_int\"\n",
    "FIG = RUN_DIR / \"figures\"\n",
    "for p in (RAW, INT, FIG):\n",
    "    p.mkdir(parents=True, exist_ok=True) "
   ]
  },
  {
   "cell_type": "code",
   "execution_count": 9,
   "id": "eb07179b",
   "metadata": {},
   "outputs": [
    {
     "name": "stdout",
     "output_type": "stream",
     "text": [
      "Fetching 6 symbol(s) from 2024-10-11 to 2025-09-30 (series=EQ) into C:\\Users\\quantbase\\Desktop\\quant\\26-09-2025\\data_raw\n"
     ]
    }
   ],
   "source": [
    "# --- 2) User inputs -----------------------------------------------------------\n",
    "# You can pass a single ticker string or a list of tickers.\n",
    "# (Keep these as NSE tickers; if you want “friendly names → tickers” we can add a map later.)\n",
    "symbols = [\"SBIN\", \"HDFCBANK\", \"BAJFINANCE\",\"NEWGEN\",\"IRCTC\",\"AEROFLEX\"]  # e.g., basket\n",
    "t_days  = 252                                          # e.g., past 1Y of business days\n",
    "series  = \"EQ\"\n",
    "\n",
    "# past t business days → [from_date, to_date]\n",
    "to_dt   = pd.Timestamp.today().normalize()\n",
    "from_dt = (to_dt - BDay(t_days)).date()\n",
    "to_dt_d = to_dt.date()\n",
    "\n",
    "print(f\"Fetching {len(symbols)} symbol(s) from {from_dt} to {to_dt_d} (series={series}) into {RAW}\") "
   ]
  },
  {
   "cell_type": "code",
   "execution_count": 10,
   "id": "5a9d0597",
   "metadata": {},
   "outputs": [
    {
     "name": "stdout",
     "output_type": "stream",
     "text": [
      "Done. OK: 6  Failed: 0\n"
     ]
    }
   ],
   "source": [
    "# --- 3) Fetch loop: one CSV per symbol ---------------------------------------\n",
    "fetched = []\n",
    "errors  = []\n",
    "\n",
    "for sym in symbols:\n",
    "    try:\n",
    "        df = stock_df(symbol=sym, from_date=from_dt, to_date=to_dt_d, series=series)\n",
    "        # Standardize a bit to match your pipeline expectations\n",
    "        # Ensure 'date' index and keep only what we need (you can keep OHLCV if you like)\n",
    "        if not df.empty:\n",
    "            # Normalize columns (jugaad_data already returns 'DATE','OPEN','HIGH','LOW','CLOSE','VOLUME','SERIES','SYMBOL' typically)\n",
    "            # We'll ensure datetime index and sort:\n",
    "            df[\"DATE\"] = pd.to_datetime(df[\"DATE\"])\n",
    "            df = df.sort_values(\"DATE\").set_index(\"DATE\")\n",
    "            # Save raw CSV exactly as fetched for auditability\n",
    "            out_csv = RAW / f\"{sym}.csv\"\n",
    "            df.to_csv(out_csv, index=True, date_format=\"%Y-%m-%d\")\n",
    "            fetched.append(sym)\n",
    "        else:\n",
    "            print(f\"⚠️ Empty frame for {sym} (maybe too-new listing or no trades in range).\")\n",
    "    except Exception as e:\n",
    "        print(f\"❌ Error fetching {sym}: {e}\")\n",
    "        errors.append((sym, str(e)))\n",
    "\n",
    "print(f\"Done. OK: {len(fetched)}  Failed: {len(errors)}\")"
   ]
  },
  {
   "cell_type": "code",
   "execution_count": 16,
   "id": "dd84d555",
   "metadata": {},
   "outputs": [
    {
     "name": "stdout",
     "output_type": "stream",
     "text": [
      "Done. OK: 6  Failed: 0\n"
     ]
    }
   ],
   "source": [
    "\n",
    "\n",
    "# --- 4) Build Close matrix (anchor left-join) --------------------------------\n",
    "# Read back just what we saved, keep only 'CLOSE'\n",
    "per_symbol = {}\n",
    "for sym in fetched:\n",
    "    dfi = pd.read_csv(RAW / f\"{sym}.csv\", parse_dates=[\"DATE\"])\n",
    "    if \"CLOSE\" not in dfi.columns:\n",
    "        print(f\"⚠️ {sym} missing CLOSE; skipping.\")\n",
    "        continue\n",
    "    dfi = dfi[[\"DATE\",\"CLOSE\"]].rename(columns={\"DATE\":\"date\",\"CLOSE\":\"close\"})\n",
    "    dfi = dfi.dropna(subset=[\"date\",\"close\"]).sort_values(\"date\")\n",
    "    dfi = dfi.set_index(\"date\")\n",
    "    # force numeric 'close'\n",
    "    dfi[\"close\"] = pd.to_numeric(dfi[\"close\"], errors=\"coerce\")\n",
    "    per_symbol[sym] = dfi\n",
    "\n",
    "# Choose an anchor (longest history) to preserve rows; then left-join others\n",
    "if not per_symbol:\n",
    "    raise RuntimeError(\"No usable symbols fetched; nothing to build.\")\n",
    "\n",
    "# anchor = symbol with most rows\n",
    "anchor_sym = max(per_symbol.items(), key=lambda kv: len(kv[1]))[0]\n",
    "prices_close = per_symbol[anchor_sym][[\"close\"]].rename(columns={\"close\": anchor_sym})\n",
    "\n",
    "for sym, dfi in per_symbol.items():\n",
    "    if sym == anchor_sym: \n",
    "        continue\n",
    "    prices_close = prices_close.join(dfi[\"close\"].rename(sym), how=\"left\")\n",
    "\n",
    "# Optional: keep only positive closes\n",
    "prices_close = prices_close.where(prices_close > 0)\n",
    "\n",
    "# --- 5) Save artifacts & quick coverage --------------------------------------\n",
    "prices_close.to_csv(INT / \"prices_close_anchor_leftjoin.csv\")\n",
    "prices_close.to_pickle(INT / \"prices_close_anchor_leftjoin.pkl\")\n"
   ]
  },
  {
   "cell_type": "code",
   "execution_count": 17,
   "id": "932169da",
   "metadata": {},
   "outputs": [
    {
     "name": "stdout",
     "output_type": "stream",
     "text": [
      "\n",
      "Anchor: SBIN\n",
      "Panel shape: (241, 6) (dates x symbols)\n",
      "Saved: C:\\Users\\quantbase\\Desktop\\quant\\26-09-2025\\data_int\\prices_close_anchor_leftjoin.pkl, C:\\Users\\quantbase\\Desktop\\quant\\26-09-2025\\data_int\\coverage.csv\n"
     ]
    }
   ],
   "source": [
    "# Coverage summary\n",
    "cov = []\n",
    "for sym in prices_close.columns:\n",
    "    s = prices_close[sym].dropna()\n",
    "    cov.append((sym, len(s), s.index.min().date() if not s.empty else None,\n",
    "                      s.index.max().date() if not s.empty else None))\n",
    "coverage = pd.DataFrame(cov, columns=[\"symbol\",\"rows\",\"start\",\"end\"]).sort_values(\"rows\", ascending=False)\n",
    "coverage.to_csv(INT / \"coverage.csv\", index=False)\n",
    "\n",
    "print(f\"\\nAnchor: {anchor_sym}\")\n",
    "print(f\"Panel shape: {prices_close.shape} (dates x symbols)\")\n",
    "print(f\"Saved: {INT/'prices_close_anchor_leftjoin.pkl'}, {INT/'coverage.csv'}\") "
   ]
  },
  {
   "cell_type": "code",
   "execution_count": 18,
   "id": "e7600b28",
   "metadata": {},
   "outputs": [
    {
     "data": {
      "text/html": [
       "<div>\n",
       "<style scoped>\n",
       "    .dataframe tbody tr th:only-of-type {\n",
       "        vertical-align: middle;\n",
       "    }\n",
       "\n",
       "    .dataframe tbody tr th {\n",
       "        vertical-align: top;\n",
       "    }\n",
       "\n",
       "    .dataframe thead th {\n",
       "        text-align: right;\n",
       "    }\n",
       "</style>\n",
       "<table border=\"1\" class=\"dataframe\">\n",
       "  <thead>\n",
       "    <tr style=\"text-align: right;\">\n",
       "      <th></th>\n",
       "      <th>symbol</th>\n",
       "      <th>rows</th>\n",
       "      <th>start</th>\n",
       "      <th>end</th>\n",
       "    </tr>\n",
       "  </thead>\n",
       "  <tbody>\n",
       "    <tr>\n",
       "      <th>0</th>\n",
       "      <td>SBIN</td>\n",
       "      <td>241</td>\n",
       "      <td>2024-10-10</td>\n",
       "      <td>2025-09-26</td>\n",
       "    </tr>\n",
       "    <tr>\n",
       "      <th>1</th>\n",
       "      <td>HDFCBANK</td>\n",
       "      <td>241</td>\n",
       "      <td>2024-10-10</td>\n",
       "      <td>2025-09-26</td>\n",
       "    </tr>\n",
       "    <tr>\n",
       "      <th>2</th>\n",
       "      <td>BAJFINANCE</td>\n",
       "      <td>241</td>\n",
       "      <td>2024-10-10</td>\n",
       "      <td>2025-09-26</td>\n",
       "    </tr>\n",
       "    <tr>\n",
       "      <th>3</th>\n",
       "      <td>NEWGEN</td>\n",
       "      <td>241</td>\n",
       "      <td>2024-10-10</td>\n",
       "      <td>2025-09-26</td>\n",
       "    </tr>\n",
       "    <tr>\n",
       "      <th>4</th>\n",
       "      <td>IRCTC</td>\n",
       "      <td>241</td>\n",
       "      <td>2024-10-10</td>\n",
       "      <td>2025-09-26</td>\n",
       "    </tr>\n",
       "    <tr>\n",
       "      <th>5</th>\n",
       "      <td>AEROFLEX</td>\n",
       "      <td>241</td>\n",
       "      <td>2024-10-10</td>\n",
       "      <td>2025-09-26</td>\n",
       "    </tr>\n",
       "  </tbody>\n",
       "</table>\n",
       "</div>"
      ],
      "text/plain": [
       "       symbol  rows       start         end\n",
       "0        SBIN   241  2024-10-10  2025-09-26\n",
       "1    HDFCBANK   241  2024-10-10  2025-09-26\n",
       "2  BAJFINANCE   241  2024-10-10  2025-09-26\n",
       "3      NEWGEN   241  2024-10-10  2025-09-26\n",
       "4       IRCTC   241  2024-10-10  2025-09-26\n",
       "5    AEROFLEX   241  2024-10-10  2025-09-26"
      ]
     },
     "metadata": {},
     "output_type": "display_data"
    },
    {
     "data": {
      "text/html": [
       "<div>\n",
       "<style scoped>\n",
       "    .dataframe tbody tr th:only-of-type {\n",
       "        vertical-align: middle;\n",
       "    }\n",
       "\n",
       "    .dataframe tbody tr th {\n",
       "        vertical-align: top;\n",
       "    }\n",
       "\n",
       "    .dataframe thead th {\n",
       "        text-align: right;\n",
       "    }\n",
       "</style>\n",
       "<table border=\"1\" class=\"dataframe\">\n",
       "  <thead>\n",
       "    <tr style=\"text-align: right;\">\n",
       "      <th></th>\n",
       "      <th>SBIN</th>\n",
       "      <th>HDFCBANK</th>\n",
       "      <th>BAJFINANCE</th>\n",
       "      <th>NEWGEN</th>\n",
       "      <th>IRCTC</th>\n",
       "      <th>AEROFLEX</th>\n",
       "    </tr>\n",
       "    <tr>\n",
       "      <th>date</th>\n",
       "      <th></th>\n",
       "      <th></th>\n",
       "      <th></th>\n",
       "      <th></th>\n",
       "      <th></th>\n",
       "      <th></th>\n",
       "    </tr>\n",
       "  </thead>\n",
       "  <tbody>\n",
       "    <tr>\n",
       "      <th>2024-10-10</th>\n",
       "      <td>797.10</td>\n",
       "      <td>1662.4</td>\n",
       "      <td>7319.70</td>\n",
       "      <td>1314.05</td>\n",
       "      <td>882.65</td>\n",
       "      <td>196.18</td>\n",
       "    </tr>\n",
       "    <tr>\n",
       "      <th>2024-10-11</th>\n",
       "      <td>799.75</td>\n",
       "      <td>1651.0</td>\n",
       "      <td>7302.00</td>\n",
       "      <td>1373.30</td>\n",
       "      <td>889.20</td>\n",
       "      <td>191.12</td>\n",
       "    </tr>\n",
       "    <tr>\n",
       "      <th>2024-10-14</th>\n",
       "      <td>805.15</td>\n",
       "      <td>1688.1</td>\n",
       "      <td>7208.80</td>\n",
       "      <td>1350.85</td>\n",
       "      <td>885.00</td>\n",
       "      <td>206.20</td>\n",
       "    </tr>\n",
       "    <tr>\n",
       "      <th>2024-10-15</th>\n",
       "      <td>804.65</td>\n",
       "      <td>1684.1</td>\n",
       "      <td>7016.90</td>\n",
       "      <td>1296.00</td>\n",
       "      <td>895.30</td>\n",
       "      <td>208.55</td>\n",
       "    </tr>\n",
       "    <tr>\n",
       "      <th>2024-10-16</th>\n",
       "      <td>805.45</td>\n",
       "      <td>1699.8</td>\n",
       "      <td>6956.35</td>\n",
       "      <td>1269.55</td>\n",
       "      <td>892.60</td>\n",
       "      <td>203.44</td>\n",
       "    </tr>\n",
       "  </tbody>\n",
       "</table>\n",
       "</div>"
      ],
      "text/plain": [
       "              SBIN  HDFCBANK  BAJFINANCE   NEWGEN   IRCTC  AEROFLEX\n",
       "date                                                               \n",
       "2024-10-10  797.10    1662.4     7319.70  1314.05  882.65    196.18\n",
       "2024-10-11  799.75    1651.0     7302.00  1373.30  889.20    191.12\n",
       "2024-10-14  805.15    1688.1     7208.80  1350.85  885.00    206.20\n",
       "2024-10-15  804.65    1684.1     7016.90  1296.00  895.30    208.55\n",
       "2024-10-16  805.45    1699.8     6956.35  1269.55  892.60    203.44"
      ]
     },
     "metadata": {},
     "output_type": "display_data"
    }
   ],
   "source": [
    "# Sanity: a quick peek\n",
    "display(coverage.head(10))\n",
    "display(prices_close.head())"
   ]
  },
  {
   "cell_type": "code",
   "execution_count": null,
   "id": "efd04837",
   "metadata": {},
   "outputs": [],
   "source": []
  },
  {
   "cell_type": "code",
   "execution_count": 19,
   "id": "4dfd9a2b",
   "metadata": {},
   "outputs": [],
   "source": [
    "# ------------------ Index CSV "
   ]
  },
  {
   "cell_type": "code",
   "execution_count": 20,
   "id": "71167dde",
   "metadata": {},
   "outputs": [],
   "source": [
    "ROOT = Path(r\"C:\\Users\\quantbase\\Desktop\\quant\")\n",
    "RUN_DATE = \"26-09-2025\"  # <- set this for the run you want to analyze\n",
    "RUN_DIR  = ROOT / RUN_DATE\n",
    "DATA_INT = RUN_DIR / \"data_int\"\n",
    "DATA_RAW = RUN_DIR / \"data_raw\"\n",
    "FIG_DIR = RUN_DIR/ \"figures\""
   ]
  },
  {
   "cell_type": "code",
   "execution_count": 21,
   "id": "2a6507cf",
   "metadata": {},
   "outputs": [
    {
     "name": "stdout",
     "output_type": "stream",
     "text": [
      "{'panel_path': 'C:\\\\Users\\\\quantbase\\\\Desktop\\\\quant\\\\26-09-2025\\\\data_int\\\\prices_close_anchor_leftjoin.pkl', 'out_pkl': 'C:\\\\Users\\\\quantbase\\\\Desktop\\\\quant\\\\26-09-2025\\\\data_int\\\\prices_close_anchor_leftjoin_with_index.pkl', 'out_csv': 'C:\\\\Users\\\\quantbase\\\\Desktop\\\\quant\\\\26-09-2025\\\\data_int\\\\prices_close_anchor_leftjoin_with_index.csv', 'index_name': 'NIFTY50', 'shape': (241, 7)}\n"
     ]
    }
   ],
   "source": [
    "info = load_index_and_merge(\n",
    "    DATA_INT, DATA_RAW,\n",
    "    prefer=[\"NIFTY50\", \"NIFTYBANK\"]   # optional preference order\n",
    "    # panel_candidates=[\"prices_close_anchor_leftjoin.pkl\"],  # optional override\n",
    ")\n",
    "\n",
    "print(info)"
   ]
  },
  {
   "cell_type": "code",
   "execution_count": 22,
   "id": "5718db4f",
   "metadata": {},
   "outputs": [
    {
     "name": "stdout",
     "output_type": "stream",
     "text": [
      "{'panel_path': 'C:\\\\Users\\\\quantbase\\\\Desktop\\\\quant\\\\26-09-2025\\\\data_int\\\\prices_close_anchor_leftjoin.pkl', 'out_pkl': 'C:\\\\Users\\\\quantbase\\\\Desktop\\\\quant\\\\26-09-2025\\\\data_int\\\\prices_close_anchor_leftjoin_with_index.pkl', 'out_csv': 'C:\\\\Users\\\\quantbase\\\\Desktop\\\\quant\\\\26-09-2025\\\\data_int\\\\prices_close_anchor_leftjoin_with_index.csv', 'index_name': 'NIFTY50', 'shape': (241, 7)}\n"
     ]
    }
   ],
   "source": [
    "info = qio.load_index_and_merge(DATA_INT, DATA_RAW, prefer=[\"NIFTY50\"])\n",
    "print(info)"
   ]
  },
  {
   "cell_type": "code",
   "execution_count": 23,
   "id": "626c4c6d",
   "metadata": {},
   "outputs": [
    {
     "data": {
      "text/html": [
       "<div>\n",
       "<style scoped>\n",
       "    .dataframe tbody tr th:only-of-type {\n",
       "        vertical-align: middle;\n",
       "    }\n",
       "\n",
       "    .dataframe tbody tr th {\n",
       "        vertical-align: top;\n",
       "    }\n",
       "\n",
       "    .dataframe thead th {\n",
       "        text-align: right;\n",
       "    }\n",
       "</style>\n",
       "<table border=\"1\" class=\"dataframe\">\n",
       "  <thead>\n",
       "    <tr style=\"text-align: right;\">\n",
       "      <th></th>\n",
       "      <th>SBIN</th>\n",
       "      <th>HDFCBANK</th>\n",
       "      <th>BAJFINANCE</th>\n",
       "      <th>NEWGEN</th>\n",
       "      <th>IRCTC</th>\n",
       "      <th>AEROFLEX</th>\n",
       "      <th>NIFTY50</th>\n",
       "    </tr>\n",
       "    <tr>\n",
       "      <th>date</th>\n",
       "      <th></th>\n",
       "      <th></th>\n",
       "      <th></th>\n",
       "      <th></th>\n",
       "      <th></th>\n",
       "      <th></th>\n",
       "      <th></th>\n",
       "    </tr>\n",
       "  </thead>\n",
       "  <tbody>\n",
       "    <tr>\n",
       "      <th>2025-09-22</th>\n",
       "      <td>855.25</td>\n",
       "      <td>964.20</td>\n",
       "      <td>1006.50</td>\n",
       "      <td>898.10</td>\n",
       "      <td>727.10</td>\n",
       "      <td>192.39</td>\n",
       "      <td>25202.35</td>\n",
       "    </tr>\n",
       "    <tr>\n",
       "      <th>2025-09-23</th>\n",
       "      <td>870.60</td>\n",
       "      <td>957.20</td>\n",
       "      <td>1025.50</td>\n",
       "      <td>884.20</td>\n",
       "      <td>722.60</td>\n",
       "      <td>192.74</td>\n",
       "      <td>25169.50</td>\n",
       "    </tr>\n",
       "    <tr>\n",
       "      <th>2025-09-24</th>\n",
       "      <td>866.20</td>\n",
       "      <td>951.05</td>\n",
       "      <td>1029.75</td>\n",
       "      <td>875.50</td>\n",
       "      <td>715.45</td>\n",
       "      <td>185.81</td>\n",
       "      <td>25056.90</td>\n",
       "    </tr>\n",
       "    <tr>\n",
       "      <th>2025-09-25</th>\n",
       "      <td>861.15</td>\n",
       "      <td>949.85</td>\n",
       "      <td>1012.75</td>\n",
       "      <td>909.45</td>\n",
       "      <td>714.90</td>\n",
       "      <td>185.49</td>\n",
       "      <td>24890.85</td>\n",
       "    </tr>\n",
       "    <tr>\n",
       "      <th>2025-09-26</th>\n",
       "      <td>856.95</td>\n",
       "      <td>945.05</td>\n",
       "      <td>985.10</td>\n",
       "      <td>888.60</td>\n",
       "      <td>703.10</td>\n",
       "      <td>179.81</td>\n",
       "      <td>NaN</td>\n",
       "    </tr>\n",
       "  </tbody>\n",
       "</table>\n",
       "</div>"
      ],
      "text/plain": [
       "              SBIN  HDFCBANK  BAJFINANCE  NEWGEN   IRCTC  AEROFLEX   NIFTY50\n",
       "date                                                                        \n",
       "2025-09-22  855.25    964.20     1006.50  898.10  727.10    192.39  25202.35\n",
       "2025-09-23  870.60    957.20     1025.50  884.20  722.60    192.74  25169.50\n",
       "2025-09-24  866.20    951.05     1029.75  875.50  715.45    185.81  25056.90\n",
       "2025-09-25  861.15    949.85     1012.75  909.45  714.90    185.49  24890.85\n",
       "2025-09-26  856.95    945.05      985.10  888.60  703.10    179.81       NaN"
      ]
     },
     "execution_count": 23,
     "metadata": {},
     "output_type": "execute_result"
    }
   ],
   "source": [
    "panel = pd.read_pickle(info[\"out_pkl\"])\n",
    "panel.tail()"
   ]
  },
  {
   "cell_type": "code",
   "execution_count": null,
   "id": "0bfdc37b",
   "metadata": {},
   "outputs": [],
   "source": []
  },
  {
   "cell_type": "code",
   "execution_count": null,
   "id": "30ef1cdc",
   "metadata": {},
   "outputs": [],
   "source": []
  },
  {
   "cell_type": "code",
   "execution_count": null,
   "id": "07acb930",
   "metadata": {},
   "outputs": [],
   "source": []
  }
 ],
 "metadata": {
  "kernelspec": {
   "display_name": "Python 3 (ipykernel)",
   "language": "python",
   "name": "python3"
  },
  "language_info": {
   "codemirror_mode": {
    "name": "ipython",
    "version": 3
   },
   "file_extension": ".py",
   "mimetype": "text/x-python",
   "name": "python",
   "nbconvert_exporter": "python",
   "pygments_lexer": "ipython3",
   "version": "3.9.23"
  }
 },
 "nbformat": 4,
 "nbformat_minor": 5
}
