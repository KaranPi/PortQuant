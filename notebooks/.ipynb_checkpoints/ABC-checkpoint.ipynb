{
 "cells": [
  {
   "cell_type": "code",
   "execution_count": 1,
   "id": "316fef7e",
   "metadata": {},
   "outputs": [
    {
     "name": "stdout",
     "output_type": "stream",
     "text": [
      "[OK] sys.path += C:\\Users\\quantbase\\Desktop\\quant\\src\n"
     ]
    }
   ],
   "source": [
    "# --- bootstrap: find src/quantlib ---\n",
    "import sys\n",
    "from pathlib import Path\n",
    "\n",
    "def add_src_to_path(pkg=\"quantlib\", levels_up=3):\n",
    "    here = Path.cwd().resolve()\n",
    "    candidates = [here / \"src\"] + [here.parents[i] / \"src\" for i in range(levels_up)]\n",
    "    for p in candidates:\n",
    "        if (p / pkg / \"__init__.py\").exists():\n",
    "            sys.path.insert(0, str(p)); print(f\"[OK] sys.path += {p}\"); return\n",
    "    raise FileNotFoundError(\"src/quantlib not found\")\n",
    "\n",
    "add_src_to_path()\n"
   ]
  },
  {
   "cell_type": "code",
   "execution_count": 14,
   "id": "6d338bde",
   "metadata": {},
   "outputs": [
    {
     "name": "stdout",
     "output_type": "stream",
     "text": [
      "{'panel_path': 'C:\\\\Users\\\\quantbase\\\\Desktop\\\\quant\\\\26-09-2025\\\\data_int\\\\prices_close_anchor_leftjoin.pkl', 'out_pkl': 'C:\\\\Users\\\\quantbase\\\\Desktop\\\\quant\\\\26-09-2025\\\\data_int\\\\prices_close_anchor_leftjoin_with_index.pkl', 'out_csv': 'C:\\\\Users\\\\quantbase\\\\Desktop\\\\quant\\\\26-09-2025\\\\data_int\\\\prices_close_anchor_leftjoin_with_index.csv', 'index_name': 'NIFTY50', 'shape': (241, 7)}\n"
     ]
    }
   ],
   "source": [
    "from pathlib import Path\n",
    "from quantlib.io import load_index_and_merge\n",
    "from datetime import date, timedelta\n",
    "import pandas as pd\n",
    "from pandas.tseries.offsets import BDay\n",
    "from jugaad_data.nse import stock_df  # historical OHLCV to DataFrame\n",
    "from quantlib import io as qio\n",
    "\n",
    "ROOT = Path(r\"C:\\Users\\quantbase\\Desktop\\quant\")\n",
    "RUN_DATE = \"26-09-2025\"  # <- set this for the run you want to analyze\n",
    "RUN_DIR  = ROOT / RUN_DATE\n",
    "DATA_INT = RUN_DIR / \"data_int\"\n",
    "FIG_DIR = RUN_DIR/ \"figures\"\n",
    "\n",
    "info = load_index_and_merge(\n",
    "    INT, RAW,\n",
    "    prefer=[\"NIFTY50\", \"NIFTYBANK\"]   # optional preference order\n",
    "    # panel_candidates=[\"prices_close_anchor_leftjoin.pkl\"],  # optional override\n",
    ")\n",
    "\n",
    "print(info)\n",
    "# Example output:\n",
    "# {\n",
    "#   'panel_path': '...\\data_int\\prices_close_anchor_leftjoin.pkl',\n",
    "#   'out_pkl': '...\\data_int\\prices_close_anchor_leftjoin_with_index.pkl',\n",
    "#   'out_csv': '...\\data_int\\prices_close_anchor_leftjoin_with_index.csv',\n",
    "#   'index_name': 'NIFTY50',\n",
    "#   'shape': (241, 4)\n",
    "# }"
   ]
  },
  {
   "cell_type": "code",
   "execution_count": 15,
   "id": "253f1d1d",
   "metadata": {},
   "outputs": [],
   "source": [
    "from pathlib import Path\n",
    "from quantlib.io import load_index_and_merge\n",
    "\n",
    "RUN_DIR = Path(r\"C:\\Users\\quantbase\\Desktop\\quant\\26-09-2025\")\n",
    "INT = RUN_DIR / \"data_int\"\n",
    "RAW = RUN_DIR / \"data_raw\"\n"
   ]
  },
  {
   "cell_type": "code",
   "execution_count": 16,
   "id": "cba08c55",
   "metadata": {},
   "outputs": [
    {
     "name": "stdout",
     "output_type": "stream",
     "text": [
      "Columns: ['TIMESTAMP', 'INDEX_NAME', 'OPEN_INDEX_VAL', 'HIGH_INDEX_VAL', 'CLOSE_INDEX_VAL', 'LOW_INDEX_VAL', 'TRADED_QTY', 'TURN_OVER']\n",
      "Detected: True True True\n",
      "        DATE     CLOSE    SYMBOL\n",
      "0 2024-01-11  24304.35  NIFTY 50\n",
      "1 2024-02-12  24276.05  NIFTY 50\n",
      "2 2024-03-12  24457.15  NIFTY 50\n"
     ]
    }
   ],
   "source": [
    "import sys, pathlib, importlib\n",
    "sys.path.append(str(pathlib.Path.cwd() / \"src\"))\n",
    "\n",
    "from quantlib import io as qio\n",
    "importlib.reload(qio)\n",
    "\n",
    "# (Optional) sanity peek at the CSV:\n",
    "qio.inspect_index_csv(r\"C:\\Users\\quantbase\\Desktop\\quant\\26-09-2025\\data_raw\\index_NIFTY50.csv\")"
   ]
  },
  {
   "cell_type": "code",
   "execution_count": 17,
   "id": "041b877f",
   "metadata": {},
   "outputs": [
    {
     "name": "stdout",
     "output_type": "stream",
     "text": [
      "{'panel_path': 'C:\\\\Users\\\\quantbase\\\\Desktop\\\\quant\\\\26-09-2025\\\\data_int\\\\prices_close_anchor_leftjoin.pkl', 'out_pkl': 'C:\\\\Users\\\\quantbase\\\\Desktop\\\\quant\\\\26-09-2025\\\\data_int\\\\prices_close_anchor_leftjoin_with_index.pkl', 'out_csv': 'C:\\\\Users\\\\quantbase\\\\Desktop\\\\quant\\\\26-09-2025\\\\data_int\\\\prices_close_anchor_leftjoin_with_index.csv', 'index_name': 'NIFTY50', 'shape': (241, 7)}\n"
     ]
    }
   ],
   "source": [
    "from pathlib import Path\n",
    "#INT = Path(r\"C:\\Users\\quantbase\\Desktop\\quant\\26-09-2025\\data_int\")\n",
    "#RAW = Path(r\"C:\\Users\\quantbase\\Desktop\\quant\\26-09-2025\\data_raw\")\n",
    "\n",
    "info = qio.load_index_and_merge(INT, RAW, prefer=[\"NIFTY50\",\"NIFTYBANK\"])\n",
    "print(info)\n",
    "# Now index_name should be 'NIFTY50', and shape should increase by one column.\n"
   ]
  },
  {
   "cell_type": "code",
   "execution_count": 18,
   "id": "e367a924",
   "metadata": {},
   "outputs": [
    {
     "data": {
      "text/html": [
       "<div>\n",
       "<style scoped>\n",
       "    .dataframe tbody tr th:only-of-type {\n",
       "        vertical-align: middle;\n",
       "    }\n",
       "\n",
       "    .dataframe tbody tr th {\n",
       "        vertical-align: top;\n",
       "    }\n",
       "\n",
       "    .dataframe thead th {\n",
       "        text-align: right;\n",
       "    }\n",
       "</style>\n",
       "<table border=\"1\" class=\"dataframe\">\n",
       "  <thead>\n",
       "    <tr style=\"text-align: right;\">\n",
       "      <th></th>\n",
       "      <th>SBIN</th>\n",
       "      <th>HDFCBANK</th>\n",
       "      <th>BAJFINANCE</th>\n",
       "      <th>NEWGEN</th>\n",
       "      <th>IRCTC</th>\n",
       "      <th>AEROFLEX</th>\n",
       "      <th>NIFTY50</th>\n",
       "    </tr>\n",
       "    <tr>\n",
       "      <th>date</th>\n",
       "      <th></th>\n",
       "      <th></th>\n",
       "      <th></th>\n",
       "      <th></th>\n",
       "      <th></th>\n",
       "      <th></th>\n",
       "      <th></th>\n",
       "    </tr>\n",
       "  </thead>\n",
       "  <tbody>\n",
       "    <tr>\n",
       "      <th>2025-09-22</th>\n",
       "      <td>855.25</td>\n",
       "      <td>964.20</td>\n",
       "      <td>1006.50</td>\n",
       "      <td>898.10</td>\n",
       "      <td>727.10</td>\n",
       "      <td>192.39</td>\n",
       "      <td>25202.35</td>\n",
       "    </tr>\n",
       "    <tr>\n",
       "      <th>2025-09-23</th>\n",
       "      <td>870.60</td>\n",
       "      <td>957.20</td>\n",
       "      <td>1025.50</td>\n",
       "      <td>884.20</td>\n",
       "      <td>722.60</td>\n",
       "      <td>192.74</td>\n",
       "      <td>25169.50</td>\n",
       "    </tr>\n",
       "    <tr>\n",
       "      <th>2025-09-24</th>\n",
       "      <td>866.20</td>\n",
       "      <td>951.05</td>\n",
       "      <td>1029.75</td>\n",
       "      <td>875.50</td>\n",
       "      <td>715.45</td>\n",
       "      <td>185.81</td>\n",
       "      <td>25056.90</td>\n",
       "    </tr>\n",
       "    <tr>\n",
       "      <th>2025-09-25</th>\n",
       "      <td>861.15</td>\n",
       "      <td>949.85</td>\n",
       "      <td>1012.75</td>\n",
       "      <td>909.45</td>\n",
       "      <td>714.90</td>\n",
       "      <td>185.49</td>\n",
       "      <td>24890.85</td>\n",
       "    </tr>\n",
       "    <tr>\n",
       "      <th>2025-09-26</th>\n",
       "      <td>856.95</td>\n",
       "      <td>945.05</td>\n",
       "      <td>985.10</td>\n",
       "      <td>888.60</td>\n",
       "      <td>703.10</td>\n",
       "      <td>179.81</td>\n",
       "      <td>NaN</td>\n",
       "    </tr>\n",
       "  </tbody>\n",
       "</table>\n",
       "</div>"
      ],
      "text/plain": [
       "              SBIN  HDFCBANK  BAJFINANCE  NEWGEN   IRCTC  AEROFLEX   NIFTY50\n",
       "date                                                                        \n",
       "2025-09-22  855.25    964.20     1006.50  898.10  727.10    192.39  25202.35\n",
       "2025-09-23  870.60    957.20     1025.50  884.20  722.60    192.74  25169.50\n",
       "2025-09-24  866.20    951.05     1029.75  875.50  715.45    185.81  25056.90\n",
       "2025-09-25  861.15    949.85     1012.75  909.45  714.90    185.49  24890.85\n",
       "2025-09-26  856.95    945.05      985.10  888.60  703.10    179.81       NaN"
      ]
     },
     "execution_count": 18,
     "metadata": {},
     "output_type": "execute_result"
    }
   ],
   "source": [
    "panel = pd.read_pickle(info[\"out_pkl\"])\n",
    "panel.tail()"
   ]
  },
  {
   "cell_type": "code",
   "execution_count": 19,
   "id": "04e7bc8e",
   "metadata": {},
   "outputs": [
    {
     "name": "stdout",
     "output_type": "stream",
     "text": [
      "{'panel_path': 'C:\\\\Users\\\\quantbase\\\\Desktop\\\\quant\\\\26-09-2025\\\\data_int\\\\prices_close_anchor_leftjoin.pkl', 'out_pkl': 'C:\\\\Users\\\\quantbase\\\\Desktop\\\\quant\\\\26-09-2025\\\\data_int\\\\prices_close_anchor_leftjoin_with_index.pkl', 'out_csv': 'C:\\\\Users\\\\quantbase\\\\Desktop\\\\quant\\\\26-09-2025\\\\data_int\\\\prices_close_anchor_leftjoin_with_index.csv', 'index_name': 'NIFTY50', 'shape': (241, 7)}\n"
     ]
    }
   ],
   "source": [
    "from pathlib import Path\n",
    "INT = Path(r\"C:\\Users\\quantbase\\Desktop\\quant\\26-09-2025\\data_int\")\n",
    "RAW = Path(r\"C:\\Users\\quantbase\\Desktop\\quant\\26-09-2025\\data_raw\")\n",
    "\n",
    "info = qio.load_index_and_merge(INT, RAW, prefer=[\"NIFTY50\",\"NIFTYBANK\"])\n",
    "print(info)"
   ]
  },
  {
   "cell_type": "code",
   "execution_count": null,
   "id": "d5fed62c",
   "metadata": {},
   "outputs": [],
   "source": []
  },
  {
   "cell_type": "code",
   "execution_count": null,
   "id": "c6a7fe5e",
   "metadata": {},
   "outputs": [],
   "source": []
  },
  {
   "cell_type": "code",
   "execution_count": null,
   "id": "c220e537",
   "metadata": {},
   "outputs": [],
   "source": []
  },
  {
   "cell_type": "code",
   "execution_count": null,
   "id": "0d08813d",
   "metadata": {},
   "outputs": [],
   "source": []
  },
  {
   "cell_type": "code",
   "execution_count": null,
   "id": "741da6d8",
   "metadata": {},
   "outputs": [],
   "source": []
  },
  {
   "cell_type": "code",
   "execution_count": null,
   "id": "31a74e9f",
   "metadata": {},
   "outputs": [],
   "source": []
  },
  {
   "cell_type": "code",
   "execution_count": null,
   "id": "944f1b37",
   "metadata": {},
   "outputs": [],
   "source": []
  },
  {
   "cell_type": "code",
   "execution_count": null,
   "id": "593e8ce9",
   "metadata": {},
   "outputs": [],
   "source": []
  },
  {
   "cell_type": "code",
   "execution_count": null,
   "id": "7eb74fd4",
   "metadata": {},
   "outputs": [],
   "source": []
  },
  {
   "cell_type": "code",
   "execution_count": null,
   "id": "24df2ea0",
   "metadata": {},
   "outputs": [],
   "source": []
  },
  {
   "cell_type": "code",
   "execution_count": null,
   "id": "23ac0fbd",
   "metadata": {},
   "outputs": [],
   "source": []
  }
 ],
 "metadata": {
  "kernelspec": {
   "display_name": "Python (quantlite)",
   "language": "python",
   "name": "quantlite"
  },
  "language_info": {
   "codemirror_mode": {
    "name": "ipython",
    "version": 3
   },
   "file_extension": ".py",
   "mimetype": "text/x-python",
   "name": "python",
   "nbconvert_exporter": "python",
   "pygments_lexer": "ipython3",
   "version": "3.9.23"
  }
 },
 "nbformat": 4,
 "nbformat_minor": 5
}
